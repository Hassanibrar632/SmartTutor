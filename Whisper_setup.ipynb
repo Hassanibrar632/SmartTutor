{
  "nbformat": 4,
  "nbformat_minor": 0,
  "metadata": {
    "colab": {
      "provenance": [],
      "gpuType": "T4"
    },
    "kernelspec": {
      "name": "python3",
      "display_name": "Python 3"
    },
    "language_info": {
      "name": "python"
    },
    "accelerator": "GPU"
  },
  "cells": [
    {
      "cell_type": "code",
      "source": [
        "!pip install --upgrade --quiet git+https://github.com/openai/whisper.git\n",
        "!pip install --upgrade --quiet yt-dlp"
      ],
      "metadata": {
        "colab": {
          "base_uri": "https://localhost:8080/"
        },
        "id": "inj9ymf8E1lV",
        "outputId": "153e42f5-4416-409a-f5d3-fe705faa8e44"
      },
      "execution_count": 1,
      "outputs": [
        {
          "output_type": "stream",
          "name": "stdout",
          "text": [
            "  Installing build dependencies ... \u001b[?25l\u001b[?25hdone\n",
            "  Getting requirements to build wheel ... \u001b[?25l\u001b[?25hdone\n",
            "  Preparing metadata (pyproject.toml) ... \u001b[?25l\u001b[?25hdone\n"
          ]
        }
      ]
    },
    {
      "cell_type": "code",
      "source": [
        "!pip install --upgrade --quiet langchain_community\n",
        "!pip install --upgrade --quiet  yt_dlp\n",
        "!pip install --upgrade --quiet  pydub\n",
        "!pip install --upgrade --quiet  librosa"
      ],
      "metadata": {
        "id": "zL6KFhe29YEO"
      },
      "execution_count": 21,
      "outputs": []
    },
    {
      "cell_type": "code",
      "source": [
        "import whisper as whip\n",
        "import numpy as np\n",
        "import subprocess\n",
        "import yt_dlp\n",
        "import os"
      ],
      "metadata": {
        "id": "hovTmONY9Lys"
      },
      "execution_count": 1,
      "outputs": []
    },
    {
      "cell_type": "code",
      "source": [
        "def video_to_audio(path):\n",
        "  try:\n",
        "    files = os.listdir(path)\n",
        "    for filee in files:\n",
        "      if \".mp4\" in filee:\n",
        "        subprocess.run([\"ffmpeg\", \"-i\", os.path.join(path, filee), \"-vn\", \"-acodec\", \"pcm_s16le\", \"-ar\", \"16000\", \"-ac\", \"1\", filee.replace(\".mp4\", \".wav\")])\n",
        "  except:\n",
        "    if \".mp4\" in path:\n",
        "      subprocess.run([\"ffmpeg\", \"-i\", path, \"-vn\", \"-acodec\", \"pcm_s16le\", \"-ar\", \"16000\", \"-ac\", \"1\", path.replace(\".mp4\", \".wav\")])\n",
        "  return"
      ],
      "metadata": {
        "id": "U6G6OloRGqup"
      },
      "execution_count": 3,
      "outputs": []
    },
    {
      "cell_type": "code",
      "source": [
        "video_to_audio(\"/content/test\")"
      ],
      "metadata": {
        "colab": {
          "base_uri": "https://localhost:8080/",
          "height": 141
        },
        "id": "ZStlgjUEP_IK",
        "outputId": "c682bbcb-7237-4dfc-ffe8-f44f178450cd"
      },
      "execution_count": 3,
      "outputs": [
        {
          "output_type": "error",
          "ename": "NameError",
          "evalue": "name 'video_to_audio' is not defined",
          "traceback": [
            "\u001b[0;31m---------------------------------------------------------------------------\u001b[0m",
            "\u001b[0;31mNameError\u001b[0m                                 Traceback (most recent call last)",
            "\u001b[0;32m<ipython-input-3-84d990162b83>\u001b[0m in \u001b[0;36m<cell line: 1>\u001b[0;34m()\u001b[0m\n\u001b[0;32m----> 1\u001b[0;31m \u001b[0mvideo_to_audio\u001b[0m\u001b[0;34m(\u001b[0m\u001b[0;34m\"/content/test\"\u001b[0m\u001b[0;34m)\u001b[0m\u001b[0;34m\u001b[0m\u001b[0;34m\u001b[0m\u001b[0m\n\u001b[0m",
            "\u001b[0;31mNameError\u001b[0m: name 'video_to_audio' is not defined"
          ]
        }
      ]
    },
    {
      "cell_type": "code",
      "source": [
        "def get_yt_audio(*urls):\n",
        "  files = []\n",
        "  for url in urls:\n",
        "    ydl_opts = {\n",
        "      'format': 'm4a/bestaudio/best',\n",
        "      'outtmpl': '%(id)s.%(ext)s',\n",
        "      'postprocessors': [\n",
        "        {\n",
        "          'key': 'FFmpegExtractAudio',\n",
        "          'preferredcodec': 'wav',\n",
        "        }\n",
        "      ]\n",
        "    }\n",
        "    with yt_dlp.YoutubeDL(ydl_opts) as ydl:\n",
        "      error_code = ydl.download(url)\n",
        "\n",
        "  return"
      ],
      "metadata": {
        "id": "3IhFeY-J9iJc"
      },
      "execution_count": 4,
      "outputs": []
    },
    {
      "cell_type": "code",
      "source": [
        "get_yt_audio('https://www.youtube.com/watch?v=469chceiiUQ', 'https://www.youtube.com/watch?v=ryg077wBvsM')"
      ],
      "metadata": {
        "colab": {
          "base_uri": "https://localhost:8080/"
        },
        "id": "ldqwLZ1a9iGc",
        "outputId": "afc796e6-6b7b-4d9b-fbe8-d86b99ac8bd4"
      },
      "execution_count": 5,
      "outputs": [
        {
          "output_type": "stream",
          "name": "stdout",
          "text": [
            "[youtube] Extracting URL: https://www.youtube.com/watch?v=469chceiiUQ\n",
            "[youtube] 469chceiiUQ: Downloading webpage\n",
            "[youtube] 469chceiiUQ: Downloading ios player API JSON\n",
            "[youtube] 469chceiiUQ: Downloading mweb player API JSON\n",
            "[youtube] 469chceiiUQ: Downloading m3u8 information\n",
            "[info] 469chceiiUQ: Downloading 1 format(s): 140\n",
            "[download] Destination: 469chceiiUQ.m4a\n",
            "[download] 100% of   20.31MiB in 00:00:00 at 25.79MiB/s  \n",
            "[FixupM4a] Correcting container of \"469chceiiUQ.m4a\"\n",
            "[ExtractAudio] Destination: 469chceiiUQ.wav\n",
            "Deleting original file 469chceiiUQ.m4a (pass -k to keep)\n",
            "[youtube] Extracting URL: https://www.youtube.com/watch?v=ryg077wBvsM\n",
            "[youtube] ryg077wBvsM: Downloading webpage\n",
            "[youtube] ryg077wBvsM: Downloading ios player API JSON\n",
            "[youtube] ryg077wBvsM: Downloading mweb player API JSON\n",
            "[youtube] ryg077wBvsM: Downloading m3u8 information\n",
            "[info] ryg077wBvsM: Downloading 1 format(s): 140\n",
            "[download] Destination: ryg077wBvsM.m4a\n",
            "[download] 100% of   16.18MiB in 00:00:00 at 25.06MiB/s  \n",
            "[FixupM4a] Correcting container of \"ryg077wBvsM.m4a\"\n",
            "[ExtractAudio] Destination: ryg077wBvsM.wav\n",
            "Deleting original file ryg077wBvsM.m4a (pass -k to keep)\n"
          ]
        }
      ]
    },
    {
      "cell_type": "code",
      "source": [
        "def transcribe_audio(path):\n",
        "  args = dict(\n",
        "    verbose = True,\n",
        "    task = 'transcribe',\n",
        "    )\n",
        "  model = whip.load_model(\"large\")\n",
        "  if '.wav' not in path:\n",
        "    files = os.listdir(path)\n",
        "    for filee in files:\n",
        "      if \".wav\" in filee:\n",
        "        result = model.transcribe(\n",
        "            os.path.join(path, filee),\n",
        "            **args)\n",
        "        whip.utils.get_writer(\n",
        "          output_format='txt',\n",
        "          output_dir='./txt'\n",
        "        )(\n",
        "          result,\n",
        "          path.split('.')[0].split('/')[-1],\n",
        "          options=dict(\n",
        "              highlight_words=False,\n",
        "              max_line_count=None,\n",
        "              max_line_width=None,\n",
        "          )\n",
        "        )\n",
        "  else:\n",
        "    if \".wav\" in path:\n",
        "      result = model.transcribe(\n",
        "            path,\n",
        "            **args)\n",
        "      whip.utils.get_writer(\n",
        "        output_format='txt',\n",
        "        output_dir='./txt'\n",
        "      )(\n",
        "        result,\n",
        "        str(path.split('.')[0].split('/')[-1]),\n",
        "        options=dict(\n",
        "            highlight_words=False,\n",
        "            max_line_count=None,\n",
        "            max_line_width=None,\n",
        "        )\n",
        "      )\n",
        "  return"
      ],
      "metadata": {
        "id": "AQPkQFzsTgEA"
      },
      "execution_count": 5,
      "outputs": []
    },
    {
      "cell_type": "code",
      "source": [
        "transcribe_audio(\"/content/ryg077wBvsM.wav\")"
      ],
      "metadata": {
        "colab": {
          "base_uri": "https://localhost:8080/"
        },
        "id": "yI0GxbgZUjdw",
        "outputId": "fffec4a1-639f-49ed-cca3-ec4c7b62ade7"
      },
      "execution_count": 7,
      "outputs": [
        {
          "output_type": "stream",
          "name": "stderr",
          "text": [
            "/usr/local/lib/python3.10/dist-packages/whisper/__init__.py:150: FutureWarning: You are using `torch.load` with `weights_only=False` (the current default value), which uses the default pickle module implicitly. It is possible to construct malicious pickle data which will execute arbitrary code during unpickling (See https://github.com/pytorch/pytorch/blob/main/SECURITY.md#untrusted-models for more details). In a future release, the default value for `weights_only` will be flipped to `True`. This limits the functions that could be executed during unpickling. Arbitrary objects will no longer be allowed to be loaded via this mode unless they are explicitly allowlisted by the user via `torch.serialization.add_safe_globals`. We recommend you start setting `weights_only=True` for any use case where you don't have full control of the loaded file. Please open an issue on GitHub for any issues related to this experimental feature.\n",
            "  checkpoint = torch.load(fp, map_location=device)\n"
          ]
        },
        {
          "output_type": "stream",
          "name": "stdout",
          "text": [
            "Detecting language using up to the first 30 seconds. Use `--language` to specify the language\n",
            "Detected language: English\n",
            "[00:00.000 --> 00:02.000]  Just let me know.\n",
            "[00:16.000 --> 00:22.000]  In 1967, a post-graduate student at Cambridge University by the name of Jocelyn Burnell\n",
            "[00:22.000 --> 00:25.840]  was surveying the sky with a newly constructed radio telescope.\n",
            "[00:25.840 --> 00:28.720]  After a few weeks, she discovered something odd.\n",
            "[00:28.720 --> 00:32.560]  The telescope had picked up a radio signal that seemed to be pulsating.\n",
            "[00:32.560 --> 00:36.240]  The pulses had an interval of exactly 1.33 seconds\n",
            "[00:36.240 --> 00:39.760]  and were initially thought to be nothing more than man-made interference.\n",
            "[00:42.800 --> 00:47.200]  However, it soon became clear the signal did in fact emanate from deep space\n",
            "[00:47.200 --> 00:52.400]  and the unwavering precision of the pulses was unlike anything seen before.\n",
            "[00:52.400 --> 00:56.080]  As such, many questioned whether it was a naturally occurring phenomenon\n",
            "[00:56.080 --> 00:58.640]  or a transmission from another civilization.\n",
            "[00:58.720 --> 01:03.840]  The radio source was even named LGM-1, an acronym for Little Green Men,\n",
            "[01:03.840 --> 01:07.920]  and Burnell herself could not help but wonder if she'd actually discovered\n",
            "[01:07.920 --> 01:10.560]  the first sign of life beyond the Earth.\n",
            "[01:21.440 --> 01:25.760]  As you might expect, it didn't take long for natural explanations to emerge\n",
            "[01:25.760 --> 01:28.560]  and we now know these pulsating signals are not just a matter of time.\n",
            "[01:28.720 --> 01:31.760]  The radio signals are a way of understanding the universe.\n",
            "[01:31.760 --> 01:34.160]  The radio signals are also known as pulsars.\n",
            "[01:34.160 --> 01:39.840]  These pulsars are the signals to be produced by rapidly rotating neutron stars, known as pulsars,\n",
            "[01:39.840 --> 01:44.240]  that emit beams of radiation akin to the beams of light emitted by a lighthouse.\n",
            "[01:44.240 --> 01:46.800]  If nothing else, it made for a neat album cover.\n",
            "[01:46.800 --> 01:51.120]  Ever since, an international effort known as the Search for Extraterrestrial Intelligence\n",
            "[01:51.120 --> 01:54.080]  has actively been listening for artificial transmissions,\n",
            "[01:54.080 --> 01:57.840]  but so far we appear to be the only ones broadcasting into the void.\n",
            "[01:57.840 --> 02:00.480]  Ansan by guests, during Mayor堂s speech,\n",
            "[02:00.480 --> 02:01.980]  is supposedly disturbing.\n",
            "[02:02.640 --> 02:13.560]  Theizz is by no means really least a\n",
            "[02:13.560 --> 02:15.280]  butterfly of anательton.\n",
            "[02:15.280 --> 02:18.680]  It's the sam dedi qaibala that��운\n",
            "[02:18.680 --> 02:19.760]  and tив dúddi\n",
            "[02:19.760 --> 02:22.960]  are often called the started clinically bubbles.\n",
            "[02:22.960 --> 02:26.800]  The lies made by the searchers about this medium\n",
            "[02:26.800 --> 02:27.760]  remain unraceable.\n",
            "[02:27.760 --> 02:31.360]  may only be detectable for a very brief period of time.\n",
            "[02:31.360 --> 02:37.000]  Furthermore, this radio leakage is extremely faint and only grows more and more diffused\n",
            "[02:37.000 --> 02:39.080]  as it expands into the galaxy.\n",
            "[02:39.080 --> 02:43.580]  Some of the most powerful signals to leak into space are military radar emissions\n",
            "[02:43.580 --> 02:46.900]  and stand a much better chance of detection across interstellar distances\n",
            "[02:46.900 --> 02:49.360]  than the average television broadcast.\n",
            "[02:49.360 --> 02:55.280]  The Square Kilometer Array, a vast interferometer to be constructed in South Africa and Australia,\n",
            "[02:55.280 --> 03:00.180]  could be sensitive enough to detect the faint radio signature of an Earth-like civilization\n",
            "[03:00.180 --> 03:03.180]  out to a distance of several hundred light years.\n",
            "[03:03.180 --> 03:07.920]  To detect more distant signals would require more deliberate attempts at communication.\n",
            "[03:07.920 --> 03:12.180]  For instance, an advanced civilization may construct powerful beacons specifically to\n",
            "[03:12.180 --> 03:15.040]  increase their radio luminosity.\n",
            "[03:15.040 --> 03:19.500]  These beacons would be rather expensive to maintain as they would consume vast amounts\n",
            "[03:19.500 --> 03:22.120]  of energy for extended periods of time.\n",
            "[03:22.120 --> 03:25.260]  A less expensive alternative would be a focused beam\n",
            "[03:25.260 --> 03:29.260]  of radiation as opposed to an omnidirectional broadcast.\n",
            "[03:29.260 --> 03:35.120]  In 1974, the Arecibo Observatory in Puerto Rico famously beamed an interstellar message\n",
            "[03:35.120 --> 03:39.400]  towards a globular cluster some 25,000 light years distant.\n",
            "[03:39.400 --> 03:43.500]  The message took less than three minutes to transmit so any prospecting aliens in the\n",
            "[03:43.500 --> 03:47.160]  path of that signal would have less than three minutes to detect it.\n",
            "[03:47.160 --> 03:49.920]  And they would never get a second chance.\n",
            "[03:49.920 --> 03:55.080]  We may have been on the receiving end of such an interstellar message when in 1977 a momentary\n",
            "[03:55.080 --> 03:58.060]  burst of energy swept across the planet.\n",
            "[03:58.060 --> 04:04.240]  Repeated attempts at redetection notwithstanding, the famous WOW signal was never detected again\n",
            "[04:04.240 --> 04:07.840]  and its origin has never been conclusively ascertained.\n",
            "[04:07.840 --> 04:12.420]  On the slim chance that it was of artificial origin, a reply was beamed in a general direction\n",
            "[04:12.420 --> 04:14.680]  whence it came in 2012.\n",
            "[04:21.320 --> 04:25.000]  In a galaxy as old and vast as the Milky Way, the probability of\n",
            "[04:25.000 --> 04:30.320]  two civilizations stumbling upon one another by briefly screaming in random directions\n",
            "[04:30.320 --> 04:31.900]  is not great.\n",
            "[04:31.900 --> 04:36.260]  To increase our chances we need to limit our selection of targets by searching for other\n",
            "[04:36.260 --> 04:39.780]  technological and biological signatures.\n",
            "[04:39.780 --> 04:45.620]  In 1995, the first extrasolar planet orbiting a sun-like star was discovered.\n",
            "[04:45.620 --> 04:49.080]  We now know that the vast majority of the hundreds of billions of stars in the Milky\n",
            "[04:49.080 --> 04:52.080]  Way galaxy are home to at least one planet.\n",
            "[04:52.080 --> 04:54.440]  We also know that billions of those planets are of similar size to one.\n",
            "[04:54.440 --> 04:54.980]  We also know that billions of those planets are of similar size to one.\n",
            "[04:54.980 --> 04:55.980]  We also know that billions of those planets are of similar size to one.\n",
            "[04:55.980 --> 04:59.520]  And orbit within the habitable zone of a star similar to the Sun.\n",
            "[04:59.520 --> 05:03.400]  This means that liquid water could exist on the surface which is an essential ingredient\n",
            "[05:03.400 --> 05:05.380]  for life as we know it.\n",
            "[05:05.380 --> 05:10.900]  Furthermore, billions of extrasolar moons may also be capable of supporting life.\n",
            "[05:10.900 --> 05:15.340]  With this knowledge in mind, in 2017 a message was beamed towards one of the least distant\n",
            "[05:15.340 --> 05:18.580]  and most Earth-like exoplanets discovered to date.\n",
            "[05:18.580 --> 05:23.560]  The message comprised a number of musical compositions and basic information about humankind\n",
            "[05:23.560 --> 05:24.840]  and, should, the planet be in danger.\n",
            "[05:24.980 --> 05:28.860]  If it's inhabited, we could expect a reply as early as 2044.\n",
            "[05:28.860 --> 05:30.940]  Here's a quick preview of that future.\n",
            "[05:32.560 --> 05:36.540]  However, habitability is no guarantee of habitation.\n",
            "[05:36.540 --> 05:41.340]  To determine whether a potentially life-supporting planet is currently supporting life would\n",
            "[05:41.340 --> 05:44.040]  require a more careful examination.\n",
            "[05:44.040 --> 05:48.880]  For instance, by analyzing the starlight passing through the atmosphere of an exoplanet, it\n",
            "[05:48.880 --> 05:51.840]  is possible to deduce its chemical composition.\n",
            "[05:51.840 --> 05:54.420]  The spectrum of an oxygen-rich atmosphere will differ from that of a planet.\n",
            "[05:54.420 --> 05:56.420]  The spectrum of an exoplanet is more likely to differ from that of, say, a hydrogen-rich\n",
            "[05:56.420 --> 05:57.420]  atmosphere.\n",
            "[05:57.420 --> 06:02.300]  Given that photosynthetic plants and organisms are responsible for the large quantities of\n",
            "[06:02.300 --> 06:07.240]  oxygen on Earth, an exoplanetary atmosphere with a similar concentration of oxygen could\n",
            "[06:07.240 --> 06:09.300]  be taken as a sign of life.\n",
            "[06:09.300 --> 06:11.720]  This is known as a biosignature.\n",
            "[06:11.720 --> 06:17.240]  But it's far from definitive as oxygen could also be the result of various abiogenic processes.\n",
            "[06:17.240 --> 06:22.100]  As such, astrobiologists are more interested in certain chemical combinations as it would\n",
            "[06:22.100 --> 06:24.000]  be far less likely for, say, methane and uranium.\n",
            "[06:24.000 --> 06:27.000]  So, we can use the term, carbon dioxide, to describe the existence of methane and carbon\n",
            "[06:27.000 --> 06:28.000]  dioxide.\n",
            "[06:28.000 --> 06:33.440]  Speaking of carbon dioxide, some chemicals can be indicative of industrial pollution\n",
            "[06:33.440 --> 06:38.660]  and thus artificially induced climate change could serve as the universal sign of unintelligent\n",
            "[06:38.660 --> 06:39.660]  life.\n",
            "[06:39.660 --> 06:43.680]  In addition to biosignatures, we may be able to detect signs of technology.\n",
            "[06:43.680 --> 06:48.340]  For instance, an exoplanet surrounded by a dense orbital belt of artificial satellites\n",
            "[06:48.340 --> 06:52.000]  or space debris could be detected during transit of its parent star.\n",
            "[06:52.000 --> 06:53.000]  This would be an example of a techno-element.\n",
            "[06:53.000 --> 06:54.000]  So, what's the difference between a carbon dioxide and a methane dioxide?\n",
            "[06:54.000 --> 06:55.060]  Well, it's not verycıketğol verbally.\n",
            "[06:55.060 --> 07:00.060]  The value of even the cold air would be backed up by a chemical pattern here.\n",
            "[07:00.060 --> 07:04.080]  In addition, if you want to investigate autumn just simply be able to discoverそれ can\n",
            "[07:04.080 --> 07:09.060]  handle a force that may take us to the sun.\n",
            "[07:09.060 --> 07:14.580]  Also, carbon dioxide can be more than enough to still send us back to the yards of Bali,\n",
            "[07:14.580 --> 07:19.560]  if its orbit is Considered as un ceremonies of breathing that could triangle the earth\n",
            "[07:19.560 --> 07:21.500]  directly around the universe.\n",
            "[07:21.500 --> 07:23.000]  That could begramming something.\n",
            "[07:23.000 --> 07:29.120]  The star exhibit erratic light fluctuations and occasionally dim by as much as 22%.\n",
            "[07:29.120 --> 07:34.840]  And so one hypothesis is that an alien megastructure is blocking the light from the star.\n",
            "[07:34.840 --> 07:39.480]  While evidence of astroengineering is still within the realm of possibility,\n",
            "[07:39.480 --> 07:43.720]  the dimming is now thought to be caused by nothing more than dust.\n",
            "[07:43.720 --> 07:47.960]  The existence of circumstellar megastructures was popularized by theoretical physicist\n",
            "[07:47.960 --> 07:52.680]  Freeman Dyson back in 1960 as a potential means for advanced civilizations to harness\n",
            "[07:52.680 --> 07:58.120]  the energy of their parent star, commonly known as the Dyson Sphere or Dyson Swarm.\n",
            "[07:58.120 --> 08:02.720]  According to the Kardashev scale, a method of measuring a civilization's energy consumption\n",
            "[08:02.720 --> 08:08.480]  proposed by astrophysicist Nikolai Kardashev in 1964, a Dyson Sphere would be indicative\n",
            "[08:08.480 --> 08:10.960]  of a Type II civilization.\n",
            "[08:10.960 --> 08:14.640]  A Type I civilization could harness the energy of its home planet.\n",
            "[08:14.640 --> 08:18.360]  A Type II civilization could harness the energy of its parent star.\n",
            "[08:18.360 --> 08:22.280]  A Type III civilization could harness the total energy output of an\n",
            "[08:22.280 --> 08:22.680]  entire planet.\n",
            "[08:22.680 --> 08:28.120]  A Type III civilization could harness the total energy output of an entire galaxy.\n",
            "[08:28.120 --> 08:34.200]  Extensive surveys of billions of stars notwithstanding, there is no reliable evidence of a Type II\n",
            "[08:34.200 --> 08:39.640]  nor Type III civilization in the Milky Way galaxy... so far.\n",
            "[08:39.640 --> 08:42.600]  What about extragalactic life?\n",
            "[08:42.600 --> 08:49.400]  After surveying 100,000 nearby galaxies for sites of a Type III super-civilization, astronomers\n",
            "[08:49.400 --> 08:52.280]  found no signs of a galactic empire.\n",
            "[08:52.680 --> 09:07.560]  The Great Silence of the Universe\n",
            "[09:07.560 --> 09:11.720]  The great silence of the universe can be a bit unnerving.\n",
            "[09:11.720 --> 09:16.680]  Humanity is now on the verge of detecting biosignatures on extrasolar planets, but Earth\n",
            "[09:16.680 --> 09:20.680]  has been radiating detectable biosignatures for billions of years.\n",
            "[09:20.680 --> 09:22.520]  Yet, as far as we can tell...\n",
            "[09:22.680 --> 09:26.440]  It's failed to attract the attention of any alien astronomers.\n",
            "[09:26.440 --> 09:31.800]  The apparent contradiction between the expectation and lack of evidence for extraterrestrial life\n",
            "[09:31.800 --> 09:34.040]  is known as the Fermi Paradox.\n",
            "[09:34.040 --> 09:39.720]  Given the sheer size and age of the universe, why does it appear to be so lifeless?\n",
            "[09:39.720 --> 09:43.400]  It is possible to concoct a myriad of hypothetical solutions.\n",
            "[09:43.400 --> 09:49.000]  Perhaps life is common, while intelligent life is exceedingly rare.\n",
            "[09:49.000 --> 09:52.520]  After all, it took some four billion years of evolution and a number of\n",
            "[09:52.520 --> 09:55.480]  mass extinctions before humans emerged on Earth.\n",
            "[09:55.480 --> 10:00.600]  Proponents of the Rare Earth Hypothesis suggest that complex life on Earth is the result of\n",
            "[10:00.600 --> 10:05.000]  an improbable chain of events unlikely to occur more than once.\n",
            "[10:05.000 --> 10:10.680]  Perhaps there exists a barrier, either improbable or impossible for life to overcome.\n",
            "[10:10.680 --> 10:15.080]  If the barrier is behind us, we may be among the fortunate few to have crossed it.\n",
            "[10:15.080 --> 10:19.560]  Potential candidates include the emergence of multicellular organisms and the invention\n",
            "[10:19.560 --> 10:20.920]  of nuclear weapons.\n",
            "[10:20.920 --> 10:22.520]  If the barrier is still to come, we may be among the fortunate few to have crossed it.\n",
            "[10:22.520 --> 10:27.560]  If the barrier is still to come, we may soon join the cosmological graveyard of fallen civilizations.\n",
            "[10:27.560 --> 10:33.000]  Potential candidates include unsustainable climate change and the invention of nuclear weapons.\n",
            "[10:33.000 --> 10:38.280]  Perhaps we severely underestimate how truly alien aliens can be.\n",
            "[10:38.280 --> 10:43.720]  All life on Earth is carbon-based and rely on water, but life could hypothetically be\n",
            "[10:43.720 --> 10:47.480]  silicon-based and thrive in oceans of liquid ammonia.\n",
            "[10:47.480 --> 10:52.280]  Just as we search for life as we know it, aliens may be doing the same.\n",
            "[10:52.280 --> 10:57.720]  Perhaps an advanced civilization did in fact pay us a visit in the distant past.\n",
            "[10:57.720 --> 11:02.920]  Unless some sort of evidence of that visitation survived for millions or billions of years,\n",
            "[11:02.920 --> 11:04.200]  we'd never know.\n",
            "[11:04.200 --> 11:07.560]  Even a visitation in the recent past could have been misconstrued as\n",
            "[11:07.560 --> 11:09.880]  gods descending from the heavens.\n",
            "[11:09.880 --> 11:12.920]  Well, I mean, that would have been a fairly accurate interpretation.\n",
            "[11:12.920 --> 11:19.400]  Perhaps all civilizations inevitably develop technology that transcend physical reality.\n",
            "[11:19.400 --> 11:22.200]  For instance, reality could be rendered obsolete by\n",
            "[11:22.200 --> 11:24.600]  hyper-realistic simulations.\n",
            "[11:24.600 --> 11:31.000]  By transferring one's consciousness into these virtual wonderlands, one could achieve digital immortality.\n",
            "[11:31.000 --> 11:36.280]  The happenstance offerings of nature would struggle to compete with the promise of utopia.\n",
            "[11:36.280 --> 11:40.360]  Throughout the galaxy, pockets of advanced civilizations may occupy no more than a few\n",
            "[11:40.360 --> 11:45.160]  star systems as they explore inner space in place of outer space.\n",
            "[11:45.160 --> 11:50.760]  In his Transcension Hypothesis, futurist John Smart takes it a step further and supposed\n",
            "[11:50.760 --> 11:51.960]  this introverted evolution to be a dream.\n",
            "[11:51.960 --> 11:57.000]  The evolution will progressively miniaturize computers until they are so intensely compressed\n",
            "[11:57.000 --> 12:00.840]  that they generate an environment analogous to black holes.\n",
            "[12:00.840 --> 12:06.440]  These post-biological civilizations would thus transcend the space-time continuum and\n",
            "[12:06.440 --> 12:09.400]  vanish from the visible universe.\n",
            "[12:09.400 --> 12:10.920]  Hypothetically speaking.\n",
            "[12:10.920 --> 12:16.360]  Apart from artificial transmissions and distant signs of astroengineering, there's also a\n",
            "[12:16.360 --> 12:20.580]  far less remote form of technosignature.\n",
            "[12:21.960 --> 12:29.900]  The Voyager spacecraft was launched in 1977 and as of the making of this video, it is\n",
            "[12:29.900 --> 12:33.260]  the only probe to have reached interstellar space.\n",
            "[12:33.260 --> 12:39.320]  It famously carries a golden record with information about mankind but it will take another 40,000\n",
            "[12:39.320 --> 12:42.340]  years before the probe encounters another star.\n",
            "[12:42.340 --> 12:46.980]  In an effort to more expeditiously explore the galaxy, an advanced civilization may launch\n",
            "[12:46.980 --> 12:51.600]  sophisticated interstellar probes capable of self-replication.\n",
            "[12:51.600 --> 12:56.100]  These probes would be intelligent enough to mine the available resources in any given\n",
            "[12:56.100 --> 12:59.860]  planetary system to create copies of themselves.\n",
            "[12:59.860 --> 13:04.280]  These copies would then travel to neighboring systems and create additional copies.\n",
            "[13:04.280 --> 13:09.200]  If these probes could travel at just 10% the speed of light, a speed attainable by modern\n",
            "[13:09.200 --> 13:14.580]  methods of propulsion, every corner of the galaxy could be exhaustively explored in just\n",
            "[13:14.580 --> 13:16.220]  a few million years.\n",
            "[13:16.220 --> 13:19.540]  A relatively short amount of time on cosmological timescales.\n",
            "[13:19.540 --> 13:20.540]  The Voyager spacecraft is now a very advanced system.\n",
            "[13:20.540 --> 13:21.540]  It's a very advanced system.\n",
            "[13:21.540 --> 13:26.860]  It's not just approaching the technological sophistication to launch such a probe.\n",
            "[13:26.860 --> 13:32.080]  This begs the question, why is the solar system so probeless?\n",
            "[13:32.080 --> 13:37.640]  If human progress is any indication, the galaxy should be completely overrun by self-replicating\n",
            "[13:37.640 --> 13:41.160]  automata, yet we see no evidence of that.\n",
            "[13:41.160 --> 13:46.320]  An ongoing hunt for alien artifacts has yet to locate any covert probes lurking in the\n",
            "[13:46.320 --> 13:47.540]  solar system.\n",
            "[13:47.540 --> 13:49.460]  But space is vast.\n",
            "[13:49.460 --> 13:50.500]  An object of extrasolar origin could be a source of energy.\n",
            "[13:50.500 --> 13:51.500]  The galaxy is a source of energy.\n",
            "[13:51.500 --> 13:55.940]  It could easily be zipping around our cosmic backyard without our knowledge.\n",
            "[13:55.940 --> 13:59.960]  In fact, that is exactly what happened in 2017.\n",
            "[13:59.960 --> 14:05.780]  An extrasolar object named Oumuamua passed through the inner solar system and went completely\n",
            "[14:05.780 --> 14:09.480]  unnoticed until it was moving away from the sun.\n",
            "[14:09.480 --> 14:14.440]  Even then, its discovery was pure luck and thousands of extrasolar visitors could go\n",
            "[14:14.440 --> 14:16.320]  undetected each year.\n",
            "[14:16.320 --> 14:21.500]  The size and shape of Oumuamua can only be inferred by the amount of light it reflects,\n",
            "[14:21.500 --> 14:25.620]  but it appears to be highly elongated or extremely flat.\n",
            "[14:25.620 --> 14:28.040]  Oumuamua is a comet.\n",
            "[14:28.040 --> 14:32.800]  Initially it was thought to be a comet but the absence of a cometary coma, a trailing\n",
            "[14:32.800 --> 14:37.400]  cloud of dust and gas typically formed when comets approached the sun, lent credence to\n",
            "[14:37.400 --> 14:39.400]  it being an asteroid.\n",
            "[14:39.400 --> 14:42.360]  But then the object began to accelerate.\n",
            "[14:42.360 --> 14:47.120]  This acceleration would be consistent with the outgassing of a comet but, as mentioned,\n",
            "[14:47.120 --> 14:49.940]  Oumuamua does not display the expected characteristics of a comet.\n",
            "[14:49.940 --> 14:50.940]  Oumuamua is a comet.\n",
            "[14:50.940 --> 14:56.420]  One possibility is that this outgassing is simply too faint for us to detect but there\n",
            "[14:56.420 --> 15:01.440]  is that remote possibility of it being an interstellar probe.\n",
            "[15:01.440 --> 15:06.380]  More specifically, a probe using a light sail as a means of propulsion.\n",
            "[15:06.380 --> 15:11.240]  On the other hand, Oumuamua is perfectly radio silent.\n",
            "[15:11.240 --> 15:17.860]  Perhaps it's a defunct probe destined to aimlessly roam the galaxy, much like Voyager.\n",
            "[15:20.940 --> 15:30.660]  It's important to remember that with a sample size of one, that being Earth, we cannot possibly\n",
            "[15:30.660 --> 15:34.340]  know how common or rare life truly is.\n",
            "[15:34.340 --> 15:40.580]  There could be hundreds of planets or millions of galaxies between us and them.\n",
            "[15:40.580 --> 15:44.740]  If life was discovered elsewhere in the solar system, perhaps beneath the frozen mantle\n",
            "[15:44.740 --> 15:50.660]  of Europa, we'd be able to compare and contrast two distinct sources of life and gain crucial\n",
            "[15:50.660 --> 15:53.840]  insight into its commonality or rarity.\n",
            "[15:53.840 --> 15:58.000]  Many reject the anthropocentric view of Earth as a cosmological oddity due to the sheer\n",
            "[15:58.000 --> 16:02.500]  number of Earth-like planets coupled with the resilience of life on Earth.\n",
            "[16:02.500 --> 16:05.020]  But the truth is, we don't know.\n",
            "[16:05.020 --> 16:10.740]  We don't know if billions of planets is sufficient for intelligence to arise more than once.\n",
            "[16:10.740 --> 16:16.460]  We don't know the prerequisites for abiogenesis, the transition from non-life to life.\n",
            "[16:16.460 --> 16:19.460]  We don't know the probability of cosmic solitude.\n",
            "[16:19.460 --> 16:20.460]  But to conclude...\n",
            "[16:20.660 --> 16:26.400]  To conclude that we are alone in the face of all this ignorance is more than a bit presumptuous.\n",
            "[16:26.400 --> 16:30.600]  The extent of our search for extraterrestrial intelligence has been compared to searching\n",
            "[16:30.600 --> 16:34.440]  a glass of water for evidence of fish in all of Earth's oceans.\n",
            "[16:34.440 --> 16:38.920]  Space is unimaginably vast and we have barely begun to scratch the surface.\n",
            "[16:38.920 --> 16:43.780]  There are so many untapped avenues for detecting signs of life that if we just turned that\n",
            "[16:43.780 --> 16:48.580]  telescope a bit to the left, made it a bit larger, and listened to a slightly different\n",
            "[16:48.580 --> 16:49.700]  range of frequencies...\n",
            "[16:49.700 --> 16:50.600]  ...perhaps a little bit more.\n",
            "[16:50.600 --> 16:52.600]  Perhaps the universe wouldn't be so silent.\n",
            "[17:20.600 --> 17:24.580]  Fate 3\n"
          ]
        }
      ]
    },
    {
      "cell_type": "code",
      "source": [
        ""
      ],
      "metadata": {
        "id": "oGeUkupKea2p"
      },
      "execution_count": null,
      "outputs": []
    }
  ]
}